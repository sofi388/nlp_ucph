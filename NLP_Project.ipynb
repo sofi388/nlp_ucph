{
  "nbformat": 4,
  "nbformat_minor": 0,
  "metadata": {
    "colab": {
      "provenance": []
    },
    "kernelspec": {
      "name": "python3",
      "display_name": "Python 3"
    },
    "language_info": {
      "name": "python"
    },
    "widgets": {
      "application/vnd.jupyter.widget-state+json": {
        "d89b7013cd1540b8be48aecfaaf16f3d": {
          "model_module": "@jupyter-widgets/controls",
          "model_name": "VBoxModel",
          "model_module_version": "1.5.0",
          "state": {
            "_dom_classes": [],
            "_model_module": "@jupyter-widgets/controls",
            "_model_module_version": "1.5.0",
            "_model_name": "VBoxModel",
            "_view_count": null,
            "_view_module": "@jupyter-widgets/controls",
            "_view_module_version": "1.5.0",
            "_view_name": "VBoxView",
            "box_style": "",
            "children": [
              "IPY_MODEL_434048ae776c4b4288911e6f4ffad289",
              "IPY_MODEL_5abdf1ef0e1548e688aa8bccd822a441",
              "IPY_MODEL_2375e3df7509468eb9e2c828c3caa3ba",
              "IPY_MODEL_0616060730f94a5ca794961405824d5c",
              "IPY_MODEL_011315c125994e71a4da5b084792eb19"
            ],
            "layout": "IPY_MODEL_c876a6b473154479940f1b036fae9455"
          }
        },
        "434048ae776c4b4288911e6f4ffad289": {
          "model_module": "@jupyter-widgets/controls",
          "model_name": "HTMLModel",
          "model_module_version": "1.5.0",
          "state": {
            "_dom_classes": [],
            "_model_module": "@jupyter-widgets/controls",
            "_model_module_version": "1.5.0",
            "_model_name": "HTMLModel",
            "_view_count": null,
            "_view_module": "@jupyter-widgets/controls",
            "_view_module_version": "1.5.0",
            "_view_name": "HTMLView",
            "description": "",
            "description_tooltip": null,
            "layout": "IPY_MODEL_6243fb1cda6145d49b408b4edf287ec7",
            "placeholder": "​",
            "style": "IPY_MODEL_44f74348ba944283bf2f82ecf55d116b",
            "value": "<center> <img\nsrc=https://huggingface.co/front/assets/huggingface_logo-noborder.svg\nalt='Hugging Face'> <br> Copy a token from <a\nhref=\"https://huggingface.co/settings/tokens\" target=\"_blank\">your Hugging Face\ntokens page</a> and paste it below. <br> Immediately click login after copying\nyour token or it might be stored in plain text in this notebook file. </center>"
          }
        },
        "5abdf1ef0e1548e688aa8bccd822a441": {
          "model_module": "@jupyter-widgets/controls",
          "model_name": "PasswordModel",
          "model_module_version": "1.5.0",
          "state": {
            "_dom_classes": [],
            "_model_module": "@jupyter-widgets/controls",
            "_model_module_version": "1.5.0",
            "_model_name": "PasswordModel",
            "_view_count": null,
            "_view_module": "@jupyter-widgets/controls",
            "_view_module_version": "1.5.0",
            "_view_name": "PasswordView",
            "continuous_update": true,
            "description": "Token:",
            "description_tooltip": null,
            "disabled": false,
            "layout": "IPY_MODEL_88899c2f01124853a22536b3ea4f5033",
            "placeholder": "​",
            "style": "IPY_MODEL_e983cd0250ca44d987663784960699c3",
            "value": ""
          }
        },
        "2375e3df7509468eb9e2c828c3caa3ba": {
          "model_module": "@jupyter-widgets/controls",
          "model_name": "CheckboxModel",
          "model_module_version": "1.5.0",
          "state": {
            "_dom_classes": [],
            "_model_module": "@jupyter-widgets/controls",
            "_model_module_version": "1.5.0",
            "_model_name": "CheckboxModel",
            "_view_count": null,
            "_view_module": "@jupyter-widgets/controls",
            "_view_module_version": "1.5.0",
            "_view_name": "CheckboxView",
            "description": "Add token as git credential?",
            "description_tooltip": null,
            "disabled": false,
            "indent": true,
            "layout": "IPY_MODEL_6f4a06b0271d4fd1a011f5d78e0fb7c9",
            "style": "IPY_MODEL_b2dd425f4c6a41d3b31f142df89ebbac",
            "value": true
          }
        },
        "0616060730f94a5ca794961405824d5c": {
          "model_module": "@jupyter-widgets/controls",
          "model_name": "ButtonModel",
          "model_module_version": "1.5.0",
          "state": {
            "_dom_classes": [],
            "_model_module": "@jupyter-widgets/controls",
            "_model_module_version": "1.5.0",
            "_model_name": "ButtonModel",
            "_view_count": null,
            "_view_module": "@jupyter-widgets/controls",
            "_view_module_version": "1.5.0",
            "_view_name": "ButtonView",
            "button_style": "",
            "description": "Login",
            "disabled": false,
            "icon": "",
            "layout": "IPY_MODEL_925a91ef0859448aa83c8b7d81e544ce",
            "style": "IPY_MODEL_7a28e0cd37324f2e92b210ee9924c579",
            "tooltip": ""
          }
        },
        "011315c125994e71a4da5b084792eb19": {
          "model_module": "@jupyter-widgets/controls",
          "model_name": "HTMLModel",
          "model_module_version": "1.5.0",
          "state": {
            "_dom_classes": [],
            "_model_module": "@jupyter-widgets/controls",
            "_model_module_version": "1.5.0",
            "_model_name": "HTMLModel",
            "_view_count": null,
            "_view_module": "@jupyter-widgets/controls",
            "_view_module_version": "1.5.0",
            "_view_name": "HTMLView",
            "description": "",
            "description_tooltip": null,
            "layout": "IPY_MODEL_7fd912673844445c97b2e6ec33559965",
            "placeholder": "​",
            "style": "IPY_MODEL_0d6a34d91b2f461a9f1187807065d557",
            "value": "\n<b>Pro Tip:</b> If you don't already have one, you can create a dedicated\n'notebooks' token with 'write' access, that you can then easily reuse for all\nnotebooks. </center>"
          }
        },
        "c876a6b473154479940f1b036fae9455": {
          "model_module": "@jupyter-widgets/base",
          "model_name": "LayoutModel",
          "model_module_version": "1.2.0",
          "state": {
            "_model_module": "@jupyter-widgets/base",
            "_model_module_version": "1.2.0",
            "_model_name": "LayoutModel",
            "_view_count": null,
            "_view_module": "@jupyter-widgets/base",
            "_view_module_version": "1.2.0",
            "_view_name": "LayoutView",
            "align_content": null,
            "align_items": "center",
            "align_self": null,
            "border": null,
            "bottom": null,
            "display": "flex",
            "flex": null,
            "flex_flow": "column",
            "grid_area": null,
            "grid_auto_columns": null,
            "grid_auto_flow": null,
            "grid_auto_rows": null,
            "grid_column": null,
            "grid_gap": null,
            "grid_row": null,
            "grid_template_areas": null,
            "grid_template_columns": null,
            "grid_template_rows": null,
            "height": null,
            "justify_content": null,
            "justify_items": null,
            "left": null,
            "margin": null,
            "max_height": null,
            "max_width": null,
            "min_height": null,
            "min_width": null,
            "object_fit": null,
            "object_position": null,
            "order": null,
            "overflow": null,
            "overflow_x": null,
            "overflow_y": null,
            "padding": null,
            "right": null,
            "top": null,
            "visibility": null,
            "width": "50%"
          }
        },
        "6243fb1cda6145d49b408b4edf287ec7": {
          "model_module": "@jupyter-widgets/base",
          "model_name": "LayoutModel",
          "model_module_version": "1.2.0",
          "state": {
            "_model_module": "@jupyter-widgets/base",
            "_model_module_version": "1.2.0",
            "_model_name": "LayoutModel",
            "_view_count": null,
            "_view_module": "@jupyter-widgets/base",
            "_view_module_version": "1.2.0",
            "_view_name": "LayoutView",
            "align_content": null,
            "align_items": null,
            "align_self": null,
            "border": null,
            "bottom": null,
            "display": null,
            "flex": null,
            "flex_flow": null,
            "grid_area": null,
            "grid_auto_columns": null,
            "grid_auto_flow": null,
            "grid_auto_rows": null,
            "grid_column": null,
            "grid_gap": null,
            "grid_row": null,
            "grid_template_areas": null,
            "grid_template_columns": null,
            "grid_template_rows": null,
            "height": null,
            "justify_content": null,
            "justify_items": null,
            "left": null,
            "margin": null,
            "max_height": null,
            "max_width": null,
            "min_height": null,
            "min_width": null,
            "object_fit": null,
            "object_position": null,
            "order": null,
            "overflow": null,
            "overflow_x": null,
            "overflow_y": null,
            "padding": null,
            "right": null,
            "top": null,
            "visibility": null,
            "width": null
          }
        },
        "44f74348ba944283bf2f82ecf55d116b": {
          "model_module": "@jupyter-widgets/controls",
          "model_name": "DescriptionStyleModel",
          "model_module_version": "1.5.0",
          "state": {
            "_model_module": "@jupyter-widgets/controls",
            "_model_module_version": "1.5.0",
            "_model_name": "DescriptionStyleModel",
            "_view_count": null,
            "_view_module": "@jupyter-widgets/base",
            "_view_module_version": "1.2.0",
            "_view_name": "StyleView",
            "description_width": ""
          }
        },
        "88899c2f01124853a22536b3ea4f5033": {
          "model_module": "@jupyter-widgets/base",
          "model_name": "LayoutModel",
          "model_module_version": "1.2.0",
          "state": {
            "_model_module": "@jupyter-widgets/base",
            "_model_module_version": "1.2.0",
            "_model_name": "LayoutModel",
            "_view_count": null,
            "_view_module": "@jupyter-widgets/base",
            "_view_module_version": "1.2.0",
            "_view_name": "LayoutView",
            "align_content": null,
            "align_items": null,
            "align_self": null,
            "border": null,
            "bottom": null,
            "display": null,
            "flex": null,
            "flex_flow": null,
            "grid_area": null,
            "grid_auto_columns": null,
            "grid_auto_flow": null,
            "grid_auto_rows": null,
            "grid_column": null,
            "grid_gap": null,
            "grid_row": null,
            "grid_template_areas": null,
            "grid_template_columns": null,
            "grid_template_rows": null,
            "height": null,
            "justify_content": null,
            "justify_items": null,
            "left": null,
            "margin": null,
            "max_height": null,
            "max_width": null,
            "min_height": null,
            "min_width": null,
            "object_fit": null,
            "object_position": null,
            "order": null,
            "overflow": null,
            "overflow_x": null,
            "overflow_y": null,
            "padding": null,
            "right": null,
            "top": null,
            "visibility": null,
            "width": null
          }
        },
        "e983cd0250ca44d987663784960699c3": {
          "model_module": "@jupyter-widgets/controls",
          "model_name": "DescriptionStyleModel",
          "model_module_version": "1.5.0",
          "state": {
            "_model_module": "@jupyter-widgets/controls",
            "_model_module_version": "1.5.0",
            "_model_name": "DescriptionStyleModel",
            "_view_count": null,
            "_view_module": "@jupyter-widgets/base",
            "_view_module_version": "1.2.0",
            "_view_name": "StyleView",
            "description_width": ""
          }
        },
        "6f4a06b0271d4fd1a011f5d78e0fb7c9": {
          "model_module": "@jupyter-widgets/base",
          "model_name": "LayoutModel",
          "model_module_version": "1.2.0",
          "state": {
            "_model_module": "@jupyter-widgets/base",
            "_model_module_version": "1.2.0",
            "_model_name": "LayoutModel",
            "_view_count": null,
            "_view_module": "@jupyter-widgets/base",
            "_view_module_version": "1.2.0",
            "_view_name": "LayoutView",
            "align_content": null,
            "align_items": null,
            "align_self": null,
            "border": null,
            "bottom": null,
            "display": null,
            "flex": null,
            "flex_flow": null,
            "grid_area": null,
            "grid_auto_columns": null,
            "grid_auto_flow": null,
            "grid_auto_rows": null,
            "grid_column": null,
            "grid_gap": null,
            "grid_row": null,
            "grid_template_areas": null,
            "grid_template_columns": null,
            "grid_template_rows": null,
            "height": null,
            "justify_content": null,
            "justify_items": null,
            "left": null,
            "margin": null,
            "max_height": null,
            "max_width": null,
            "min_height": null,
            "min_width": null,
            "object_fit": null,
            "object_position": null,
            "order": null,
            "overflow": null,
            "overflow_x": null,
            "overflow_y": null,
            "padding": null,
            "right": null,
            "top": null,
            "visibility": null,
            "width": null
          }
        },
        "b2dd425f4c6a41d3b31f142df89ebbac": {
          "model_module": "@jupyter-widgets/controls",
          "model_name": "DescriptionStyleModel",
          "model_module_version": "1.5.0",
          "state": {
            "_model_module": "@jupyter-widgets/controls",
            "_model_module_version": "1.5.0",
            "_model_name": "DescriptionStyleModel",
            "_view_count": null,
            "_view_module": "@jupyter-widgets/base",
            "_view_module_version": "1.2.0",
            "_view_name": "StyleView",
            "description_width": ""
          }
        },
        "925a91ef0859448aa83c8b7d81e544ce": {
          "model_module": "@jupyter-widgets/base",
          "model_name": "LayoutModel",
          "model_module_version": "1.2.0",
          "state": {
            "_model_module": "@jupyter-widgets/base",
            "_model_module_version": "1.2.0",
            "_model_name": "LayoutModel",
            "_view_count": null,
            "_view_module": "@jupyter-widgets/base",
            "_view_module_version": "1.2.0",
            "_view_name": "LayoutView",
            "align_content": null,
            "align_items": null,
            "align_self": null,
            "border": null,
            "bottom": null,
            "display": null,
            "flex": null,
            "flex_flow": null,
            "grid_area": null,
            "grid_auto_columns": null,
            "grid_auto_flow": null,
            "grid_auto_rows": null,
            "grid_column": null,
            "grid_gap": null,
            "grid_row": null,
            "grid_template_areas": null,
            "grid_template_columns": null,
            "grid_template_rows": null,
            "height": null,
            "justify_content": null,
            "justify_items": null,
            "left": null,
            "margin": null,
            "max_height": null,
            "max_width": null,
            "min_height": null,
            "min_width": null,
            "object_fit": null,
            "object_position": null,
            "order": null,
            "overflow": null,
            "overflow_x": null,
            "overflow_y": null,
            "padding": null,
            "right": null,
            "top": null,
            "visibility": null,
            "width": null
          }
        },
        "7a28e0cd37324f2e92b210ee9924c579": {
          "model_module": "@jupyter-widgets/controls",
          "model_name": "ButtonStyleModel",
          "model_module_version": "1.5.0",
          "state": {
            "_model_module": "@jupyter-widgets/controls",
            "_model_module_version": "1.5.0",
            "_model_name": "ButtonStyleModel",
            "_view_count": null,
            "_view_module": "@jupyter-widgets/base",
            "_view_module_version": "1.2.0",
            "_view_name": "StyleView",
            "button_color": null,
            "font_weight": ""
          }
        },
        "7fd912673844445c97b2e6ec33559965": {
          "model_module": "@jupyter-widgets/base",
          "model_name": "LayoutModel",
          "model_module_version": "1.2.0",
          "state": {
            "_model_module": "@jupyter-widgets/base",
            "_model_module_version": "1.2.0",
            "_model_name": "LayoutModel",
            "_view_count": null,
            "_view_module": "@jupyter-widgets/base",
            "_view_module_version": "1.2.0",
            "_view_name": "LayoutView",
            "align_content": null,
            "align_items": null,
            "align_self": null,
            "border": null,
            "bottom": null,
            "display": null,
            "flex": null,
            "flex_flow": null,
            "grid_area": null,
            "grid_auto_columns": null,
            "grid_auto_flow": null,
            "grid_auto_rows": null,
            "grid_column": null,
            "grid_gap": null,
            "grid_row": null,
            "grid_template_areas": null,
            "grid_template_columns": null,
            "grid_template_rows": null,
            "height": null,
            "justify_content": null,
            "justify_items": null,
            "left": null,
            "margin": null,
            "max_height": null,
            "max_width": null,
            "min_height": null,
            "min_width": null,
            "object_fit": null,
            "object_position": null,
            "order": null,
            "overflow": null,
            "overflow_x": null,
            "overflow_y": null,
            "padding": null,
            "right": null,
            "top": null,
            "visibility": null,
            "width": null
          }
        },
        "0d6a34d91b2f461a9f1187807065d557": {
          "model_module": "@jupyter-widgets/controls",
          "model_name": "DescriptionStyleModel",
          "model_module_version": "1.5.0",
          "state": {
            "_model_module": "@jupyter-widgets/controls",
            "_model_module_version": "1.5.0",
            "_model_name": "DescriptionStyleModel",
            "_view_count": null,
            "_view_module": "@jupyter-widgets/base",
            "_view_module_version": "1.2.0",
            "_view_name": "StyleView",
            "description_width": ""
          }
        },
        "9fc0c94650dc4e2aa165824300fa7078": {
          "model_module": "@jupyter-widgets/controls",
          "model_name": "HBoxModel",
          "model_module_version": "1.5.0",
          "state": {
            "_dom_classes": [],
            "_model_module": "@jupyter-widgets/controls",
            "_model_module_version": "1.5.0",
            "_model_name": "HBoxModel",
            "_view_count": null,
            "_view_module": "@jupyter-widgets/controls",
            "_view_module_version": "1.5.0",
            "_view_name": "HBoxView",
            "box_style": "",
            "children": [
              "IPY_MODEL_3be305432432409ab783d7dfd5e84d9d",
              "IPY_MODEL_cb0f3ed09df44202bee7de7a3e024034",
              "IPY_MODEL_65ebff5df5cf447d81adc814acf9305c"
            ],
            "layout": "IPY_MODEL_7aa8658b044a48ec9644f382faed35fe"
          }
        },
        "3be305432432409ab783d7dfd5e84d9d": {
          "model_module": "@jupyter-widgets/controls",
          "model_name": "HTMLModel",
          "model_module_version": "1.5.0",
          "state": {
            "_dom_classes": [],
            "_model_module": "@jupyter-widgets/controls",
            "_model_module_version": "1.5.0",
            "_model_name": "HTMLModel",
            "_view_count": null,
            "_view_module": "@jupyter-widgets/controls",
            "_view_module_version": "1.5.0",
            "_view_name": "HTMLView",
            "description": "",
            "description_tooltip": null,
            "layout": "IPY_MODEL_d52726a19309422fa65e5b99e8dc74f9",
            "placeholder": "​",
            "style": "IPY_MODEL_a7350711978142d88757bcf5c985d061",
            "value": "generation_config.json: 100%"
          }
        },
        "cb0f3ed09df44202bee7de7a3e024034": {
          "model_module": "@jupyter-widgets/controls",
          "model_name": "FloatProgressModel",
          "model_module_version": "1.5.0",
          "state": {
            "_dom_classes": [],
            "_model_module": "@jupyter-widgets/controls",
            "_model_module_version": "1.5.0",
            "_model_name": "FloatProgressModel",
            "_view_count": null,
            "_view_module": "@jupyter-widgets/controls",
            "_view_module_version": "1.5.0",
            "_view_name": "ProgressView",
            "bar_style": "success",
            "description": "",
            "description_tooltip": null,
            "layout": "IPY_MODEL_001e6e8aa8104fc895e6bd43fa745fee",
            "max": 293,
            "min": 0,
            "orientation": "horizontal",
            "style": "IPY_MODEL_11ceff901645457d8dc2e32b7fa28f62",
            "value": 293
          }
        },
        "65ebff5df5cf447d81adc814acf9305c": {
          "model_module": "@jupyter-widgets/controls",
          "model_name": "HTMLModel",
          "model_module_version": "1.5.0",
          "state": {
            "_dom_classes": [],
            "_model_module": "@jupyter-widgets/controls",
            "_model_module_version": "1.5.0",
            "_model_name": "HTMLModel",
            "_view_count": null,
            "_view_module": "@jupyter-widgets/controls",
            "_view_module_version": "1.5.0",
            "_view_name": "HTMLView",
            "description": "",
            "description_tooltip": null,
            "layout": "IPY_MODEL_0498cf15135b46358517f305ba3beb00",
            "placeholder": "​",
            "style": "IPY_MODEL_329c2efac2bf4f47baca2a22b10fc727",
            "value": " 293/293 [00:00&lt;00:00, 2.64kB/s]"
          }
        },
        "7aa8658b044a48ec9644f382faed35fe": {
          "model_module": "@jupyter-widgets/base",
          "model_name": "LayoutModel",
          "model_module_version": "1.2.0",
          "state": {
            "_model_module": "@jupyter-widgets/base",
            "_model_module_version": "1.2.0",
            "_model_name": "LayoutModel",
            "_view_count": null,
            "_view_module": "@jupyter-widgets/base",
            "_view_module_version": "1.2.0",
            "_view_name": "LayoutView",
            "align_content": null,
            "align_items": null,
            "align_self": null,
            "border": null,
            "bottom": null,
            "display": null,
            "flex": null,
            "flex_flow": null,
            "grid_area": null,
            "grid_auto_columns": null,
            "grid_auto_flow": null,
            "grid_auto_rows": null,
            "grid_column": null,
            "grid_gap": null,
            "grid_row": null,
            "grid_template_areas": null,
            "grid_template_columns": null,
            "grid_template_rows": null,
            "height": null,
            "justify_content": null,
            "justify_items": null,
            "left": null,
            "margin": null,
            "max_height": null,
            "max_width": null,
            "min_height": null,
            "min_width": null,
            "object_fit": null,
            "object_position": null,
            "order": null,
            "overflow": null,
            "overflow_x": null,
            "overflow_y": null,
            "padding": null,
            "right": null,
            "top": null,
            "visibility": null,
            "width": null
          }
        },
        "d52726a19309422fa65e5b99e8dc74f9": {
          "model_module": "@jupyter-widgets/base",
          "model_name": "LayoutModel",
          "model_module_version": "1.2.0",
          "state": {
            "_model_module": "@jupyter-widgets/base",
            "_model_module_version": "1.2.0",
            "_model_name": "LayoutModel",
            "_view_count": null,
            "_view_module": "@jupyter-widgets/base",
            "_view_module_version": "1.2.0",
            "_view_name": "LayoutView",
            "align_content": null,
            "align_items": null,
            "align_self": null,
            "border": null,
            "bottom": null,
            "display": null,
            "flex": null,
            "flex_flow": null,
            "grid_area": null,
            "grid_auto_columns": null,
            "grid_auto_flow": null,
            "grid_auto_rows": null,
            "grid_column": null,
            "grid_gap": null,
            "grid_row": null,
            "grid_template_areas": null,
            "grid_template_columns": null,
            "grid_template_rows": null,
            "height": null,
            "justify_content": null,
            "justify_items": null,
            "left": null,
            "margin": null,
            "max_height": null,
            "max_width": null,
            "min_height": null,
            "min_width": null,
            "object_fit": null,
            "object_position": null,
            "order": null,
            "overflow": null,
            "overflow_x": null,
            "overflow_y": null,
            "padding": null,
            "right": null,
            "top": null,
            "visibility": null,
            "width": null
          }
        },
        "a7350711978142d88757bcf5c985d061": {
          "model_module": "@jupyter-widgets/controls",
          "model_name": "DescriptionStyleModel",
          "model_module_version": "1.5.0",
          "state": {
            "_model_module": "@jupyter-widgets/controls",
            "_model_module_version": "1.5.0",
            "_model_name": "DescriptionStyleModel",
            "_view_count": null,
            "_view_module": "@jupyter-widgets/base",
            "_view_module_version": "1.2.0",
            "_view_name": "StyleView",
            "description_width": ""
          }
        },
        "001e6e8aa8104fc895e6bd43fa745fee": {
          "model_module": "@jupyter-widgets/base",
          "model_name": "LayoutModel",
          "model_module_version": "1.2.0",
          "state": {
            "_model_module": "@jupyter-widgets/base",
            "_model_module_version": "1.2.0",
            "_model_name": "LayoutModel",
            "_view_count": null,
            "_view_module": "@jupyter-widgets/base",
            "_view_module_version": "1.2.0",
            "_view_name": "LayoutView",
            "align_content": null,
            "align_items": null,
            "align_self": null,
            "border": null,
            "bottom": null,
            "display": null,
            "flex": null,
            "flex_flow": null,
            "grid_area": null,
            "grid_auto_columns": null,
            "grid_auto_flow": null,
            "grid_auto_rows": null,
            "grid_column": null,
            "grid_gap": null,
            "grid_row": null,
            "grid_template_areas": null,
            "grid_template_columns": null,
            "grid_template_rows": null,
            "height": null,
            "justify_content": null,
            "justify_items": null,
            "left": null,
            "margin": null,
            "max_height": null,
            "max_width": null,
            "min_height": null,
            "min_width": null,
            "object_fit": null,
            "object_position": null,
            "order": null,
            "overflow": null,
            "overflow_x": null,
            "overflow_y": null,
            "padding": null,
            "right": null,
            "top": null,
            "visibility": null,
            "width": null
          }
        },
        "11ceff901645457d8dc2e32b7fa28f62": {
          "model_module": "@jupyter-widgets/controls",
          "model_name": "ProgressStyleModel",
          "model_module_version": "1.5.0",
          "state": {
            "_model_module": "@jupyter-widgets/controls",
            "_model_module_version": "1.5.0",
            "_model_name": "ProgressStyleModel",
            "_view_count": null,
            "_view_module": "@jupyter-widgets/base",
            "_view_module_version": "1.2.0",
            "_view_name": "StyleView",
            "bar_color": null,
            "description_width": ""
          }
        },
        "0498cf15135b46358517f305ba3beb00": {
          "model_module": "@jupyter-widgets/base",
          "model_name": "LayoutModel",
          "model_module_version": "1.2.0",
          "state": {
            "_model_module": "@jupyter-widgets/base",
            "_model_module_version": "1.2.0",
            "_model_name": "LayoutModel",
            "_view_count": null,
            "_view_module": "@jupyter-widgets/base",
            "_view_module_version": "1.2.0",
            "_view_name": "LayoutView",
            "align_content": null,
            "align_items": null,
            "align_self": null,
            "border": null,
            "bottom": null,
            "display": null,
            "flex": null,
            "flex_flow": null,
            "grid_area": null,
            "grid_auto_columns": null,
            "grid_auto_flow": null,
            "grid_auto_rows": null,
            "grid_column": null,
            "grid_gap": null,
            "grid_row": null,
            "grid_template_areas": null,
            "grid_template_columns": null,
            "grid_template_rows": null,
            "height": null,
            "justify_content": null,
            "justify_items": null,
            "left": null,
            "margin": null,
            "max_height": null,
            "max_width": null,
            "min_height": null,
            "min_width": null,
            "object_fit": null,
            "object_position": null,
            "order": null,
            "overflow": null,
            "overflow_x": null,
            "overflow_y": null,
            "padding": null,
            "right": null,
            "top": null,
            "visibility": null,
            "width": null
          }
        },
        "329c2efac2bf4f47baca2a22b10fc727": {
          "model_module": "@jupyter-widgets/controls",
          "model_name": "DescriptionStyleModel",
          "model_module_version": "1.5.0",
          "state": {
            "_model_module": "@jupyter-widgets/controls",
            "_model_module_version": "1.5.0",
            "_model_name": "DescriptionStyleModel",
            "_view_count": null,
            "_view_module": "@jupyter-widgets/base",
            "_view_module_version": "1.2.0",
            "_view_name": "StyleView",
            "description_width": ""
          }
        }
      }
    }
  },
  "cells": [
    {
      "cell_type": "markdown",
      "source": [
        "# Week 36"
      ],
      "metadata": {
        "id": "7vjXt5apdaI9"
      }
    },
    {
      "cell_type": "markdown",
      "source": [
        "1. Explore the dataset from https://huggingface.co/datasets/coastalcph/tydi_xor_rc. Familiarize yourself with the dataset card, download the\n",
        "dataset and explore its columns. Summarize basic data statistics for train\u0002ing and validation data in each of the languages Finnish (fi), Japanese\n",
        "(ja) and Russian (ru).\n",
        "\n",
        "2. For each of the languages Finnish, Japanese and Russian, report the 5\n",
        "most common words in the questions from the training set. What kind of\n",
        "words are they?\n",
        "\n",
        "3. Implement a rule-based classifier that predicts whether a question is an\u0002swerable or impossible, only using the document (context) and question.\n",
        "You may use machine translation as a component. Use the answerable\n",
        "field to evaluate it on the validation set. What is the performance of your\n",
        "classifier for each of the languages Finnish, Japanese and Russian?\n",
        "\n"
      ],
      "metadata": {
        "id": "FD4i8bIidgcR"
      }
    },
    {
      "cell_type": "markdown",
      "source": [],
      "metadata": {
        "id": "Y6kR-6Il48Ds"
      }
    },
    {
      "cell_type": "markdown",
      "source": [
        "####  1. Exploring the dataset"
      ],
      "metadata": {
        "id": "Zgo89As0eCeV"
      }
    },
    {
      "cell_type": "code",
      "source": [
        "from huggingface_hub import notebook_login\n",
        "\n",
        "notebook_login() # using token"
      ],
      "metadata": {
        "colab": {
          "base_uri": "https://localhost:8080/",
          "height": 351,
          "referenced_widgets": [
            "d89b7013cd1540b8be48aecfaaf16f3d",
            "434048ae776c4b4288911e6f4ffad289",
            "5abdf1ef0e1548e688aa8bccd822a441",
            "2375e3df7509468eb9e2c828c3caa3ba",
            "0616060730f94a5ca794961405824d5c",
            "011315c125994e71a4da5b084792eb19",
            "c876a6b473154479940f1b036fae9455",
            "6243fb1cda6145d49b408b4edf287ec7",
            "44f74348ba944283bf2f82ecf55d116b",
            "88899c2f01124853a22536b3ea4f5033",
            "e983cd0250ca44d987663784960699c3",
            "6f4a06b0271d4fd1a011f5d78e0fb7c9",
            "b2dd425f4c6a41d3b31f142df89ebbac",
            "925a91ef0859448aa83c8b7d81e544ce",
            "7a28e0cd37324f2e92b210ee9924c579",
            "7fd912673844445c97b2e6ec33559965",
            "0d6a34d91b2f461a9f1187807065d557"
          ]
        },
        "id": "bA4SDYzRxjfT",
        "outputId": "17c4585c-b4eb-4e55-fc33-0c42b272862b"
      },
      "execution_count": null,
      "outputs": [
        {
          "output_type": "display_data",
          "data": {
            "text/plain": [
              "VBox(children=(HTML(value='<center> <img\\nsrc=https://huggingface.co/front/assets/huggingface_logo-noborder.sv…"
            ],
            "application/vnd.jupyter.widget-view+json": {
              "version_major": 2,
              "version_minor": 0,
              "model_id": "d89b7013cd1540b8be48aecfaaf16f3d"
            }
          },
          "metadata": {}
        }
      ]
    },
    {
      "cell_type": "code",
      "execution_count": null,
      "metadata": {
        "id": "-uvXbcjZcApa",
        "colab": {
          "base_uri": "https://localhost:8080/"
        },
        "outputId": "e985af92-f592-4355-9f97-96b264513f6f"
      },
      "outputs": [
        {
          "output_type": "stream",
          "name": "stderr",
          "text": [
            "/usr/local/lib/python3.10/dist-packages/huggingface_hub/utils/_token.py:89: UserWarning: \n",
            "The secret `HF_TOKEN` does not exist in your Colab secrets.\n",
            "To authenticate with the Hugging Face Hub, create a token in your settings tab (https://huggingface.co/settings/tokens), set it as secret in your Google Colab and restart your session.\n",
            "You will be able to reuse this secret in all of your notebooks.\n",
            "Please note that authentication is recommended but still optional to access public models or datasets.\n",
            "  warnings.warn(\n"
          ]
        }
      ],
      "source": [
        "import pandas as pd\n",
        "\n",
        "splits = {'train': 'train.parquet', 'validation': 'validation.parquet'}\n",
        "df = pd.read_parquet(\"hf://datasets/coastalcph/tydi_xor_rc/\" + splits[\"train\"])"
      ]
    },
    {
      "cell_type": "code",
      "source": [
        "print(df.head)"
      ],
      "metadata": {
        "colab": {
          "base_uri": "https://localhost:8080/"
        },
        "id": "d6Qhxd7DdAM-",
        "outputId": "df6a505e-b4ef-44f0-facb-bf4a4f7eb575"
      },
      "execution_count": null,
      "outputs": [
        {
          "output_type": "stream",
          "name": "stdout",
          "text": [
            "<bound method NDFrame.head of                                                 question  \\\n",
            "0      উইকিলিকস কত সালে সর্বপ্রথম ইন্টারনেটে প্রথম তথ...   \n",
            "1               দ্বিতীয় বিশ্বযুদ্ধে কোন দেশ পরাজিত হয় ?   \n",
            "2      মার্কিন যুক্তরাষ্ট্রের সংবিধান অনুযায়ী মার্কিন...   \n",
            "3      আরব-ইসরায়েলি যুদ্ধে আরবের মোট কয়জন সৈন্যের মৃ...   \n",
            "4              বিশ্বে প্রথম পুঁজিবাদী সমাজ কবে গড়ে ওঠে ?   \n",
            "...                                                  ...   \n",
            "15321              కోళ్లు ఎక్కువగా ఏ దేశంలో కనిపిస్తాయి?   \n",
            "15322       క్షయ వ్యాధికి విరుగుడు ఏ దేశంలో కనుగొన్నారు?   \n",
            "15323                 ఖురాన్ ఏ అరబ్బీ భాషలో ఎవరు రాసారు?   \n",
            "15324  టెక్సస్ రాష్ట్రంలోని అతిపెద్ద మానవ నిర్మితం ఏది ?   \n",
            "15325         తమిళనాడులో రాష్ట్ర మొదటి ముఖ్యమంత్రి ఎవరు?   \n",
            "\n",
            "                                                 context lang  answerable  \\\n",
            "0      WikiLeaks () is an international non-profit or...   bn        True   \n",
            "1      The war in Europe concluded with an invasion o...   bn        True   \n",
            "2      Same-sex marriage in the United States expande...   bn       False   \n",
            "3      The exact number of Arab casualties is unknown...   bn        True   \n",
            "4      As Thomas Hall (2000) notes, \"The Sung Empire ...   bn        True   \n",
            "...                                                  ...  ...         ...   \n",
            "15321  Since time immemorial, man has been practicing...   te       False   \n",
            "15322  Vaccines against anthrax for use in livestock ...   te       False   \n",
            "15323  are broken Other Names of the Qur'an: It is be...   te       False   \n",
            "15324  Austin is the capital of the US state of Texas...   te       False   \n",
            "15325  It became the 'Dravidakajagam' party under Nay...   te       False   \n",
            "\n",
            "       answer_start                    answer               answer_inlang  \n",
            "0               182                      2006                        None  \n",
            "1                48                   Germany                        None  \n",
            "2                -1                        no                        None  \n",
            "3                39                   unknown                        None  \n",
            "4              1219              17th century                        None  \n",
            "...             ...                       ...                         ...  \n",
            "15321            -1  United States of America  అమెరికా సంయుక్త రాష్ట్రాలు  \n",
            "15322            -1                    France                    ఫ్రాన్స్  \n",
            "15323            -1          Prophet Muhammad            ముహమ్మద్ ప్రవక్త  \n",
            "15324            -1     JP Morgan Chase Tower     జేపీ మోర్గాన్ ఛేజ్ టవర్  \n",
            "15325            -1           C. N. Annadurai            సి.ఎన్.అన్నాదురై  \n",
            "\n",
            "[15326 rows x 7 columns]>\n"
          ]
        }
      ]
    },
    {
      "cell_type": "code",
      "source": [
        "df.describe()"
      ],
      "metadata": {
        "colab": {
          "base_uri": "https://localhost:8080/",
          "height": 320
        },
        "id": "EwfXFJ5WdDle",
        "outputId": "768b6d12-f3c1-42f4-ece9-b4ae765d0b0d"
      },
      "execution_count": null,
      "outputs": [
        {
          "output_type": "execute_result",
          "data": {
            "text/plain": [
              "       answer_start\n",
              "count  15326.000000\n",
              "mean     157.062769\n",
              "std      226.748482\n",
              "min       -1.000000\n",
              "25%       13.000000\n",
              "50%       78.000000\n",
              "75%      210.000000\n",
              "max     3964.000000"
            ],
            "text/html": [
              "\n",
              "  <div id=\"df-2cb2434d-e274-43d3-82cb-07ffcb888350\" class=\"colab-df-container\">\n",
              "    <div>\n",
              "<style scoped>\n",
              "    .dataframe tbody tr th:only-of-type {\n",
              "        vertical-align: middle;\n",
              "    }\n",
              "\n",
              "    .dataframe tbody tr th {\n",
              "        vertical-align: top;\n",
              "    }\n",
              "\n",
              "    .dataframe thead th {\n",
              "        text-align: right;\n",
              "    }\n",
              "</style>\n",
              "<table border=\"1\" class=\"dataframe\">\n",
              "  <thead>\n",
              "    <tr style=\"text-align: right;\">\n",
              "      <th></th>\n",
              "      <th>answer_start</th>\n",
              "    </tr>\n",
              "  </thead>\n",
              "  <tbody>\n",
              "    <tr>\n",
              "      <th>count</th>\n",
              "      <td>15326.000000</td>\n",
              "    </tr>\n",
              "    <tr>\n",
              "      <th>mean</th>\n",
              "      <td>157.062769</td>\n",
              "    </tr>\n",
              "    <tr>\n",
              "      <th>std</th>\n",
              "      <td>226.748482</td>\n",
              "    </tr>\n",
              "    <tr>\n",
              "      <th>min</th>\n",
              "      <td>-1.000000</td>\n",
              "    </tr>\n",
              "    <tr>\n",
              "      <th>25%</th>\n",
              "      <td>13.000000</td>\n",
              "    </tr>\n",
              "    <tr>\n",
              "      <th>50%</th>\n",
              "      <td>78.000000</td>\n",
              "    </tr>\n",
              "    <tr>\n",
              "      <th>75%</th>\n",
              "      <td>210.000000</td>\n",
              "    </tr>\n",
              "    <tr>\n",
              "      <th>max</th>\n",
              "      <td>3964.000000</td>\n",
              "    </tr>\n",
              "  </tbody>\n",
              "</table>\n",
              "</div>\n",
              "    <div class=\"colab-df-buttons\">\n",
              "\n",
              "  <div class=\"colab-df-container\">\n",
              "    <button class=\"colab-df-convert\" onclick=\"convertToInteractive('df-2cb2434d-e274-43d3-82cb-07ffcb888350')\"\n",
              "            title=\"Convert this dataframe to an interactive table.\"\n",
              "            style=\"display:none;\">\n",
              "\n",
              "  <svg xmlns=\"http://www.w3.org/2000/svg\" height=\"24px\" viewBox=\"0 -960 960 960\">\n",
              "    <path d=\"M120-120v-720h720v720H120Zm60-500h600v-160H180v160Zm220 220h160v-160H400v160Zm0 220h160v-160H400v160ZM180-400h160v-160H180v160Zm440 0h160v-160H620v160ZM180-180h160v-160H180v160Zm440 0h160v-160H620v160Z\"/>\n",
              "  </svg>\n",
              "    </button>\n",
              "\n",
              "  <style>\n",
              "    .colab-df-container {\n",
              "      display:flex;\n",
              "      gap: 12px;\n",
              "    }\n",
              "\n",
              "    .colab-df-convert {\n",
              "      background-color: #E8F0FE;\n",
              "      border: none;\n",
              "      border-radius: 50%;\n",
              "      cursor: pointer;\n",
              "      display: none;\n",
              "      fill: #1967D2;\n",
              "      height: 32px;\n",
              "      padding: 0 0 0 0;\n",
              "      width: 32px;\n",
              "    }\n",
              "\n",
              "    .colab-df-convert:hover {\n",
              "      background-color: #E2EBFA;\n",
              "      box-shadow: 0px 1px 2px rgba(60, 64, 67, 0.3), 0px 1px 3px 1px rgba(60, 64, 67, 0.15);\n",
              "      fill: #174EA6;\n",
              "    }\n",
              "\n",
              "    .colab-df-buttons div {\n",
              "      margin-bottom: 4px;\n",
              "    }\n",
              "\n",
              "    [theme=dark] .colab-df-convert {\n",
              "      background-color: #3B4455;\n",
              "      fill: #D2E3FC;\n",
              "    }\n",
              "\n",
              "    [theme=dark] .colab-df-convert:hover {\n",
              "      background-color: #434B5C;\n",
              "      box-shadow: 0px 1px 3px 1px rgba(0, 0, 0, 0.15);\n",
              "      filter: drop-shadow(0px 1px 2px rgba(0, 0, 0, 0.3));\n",
              "      fill: #FFFFFF;\n",
              "    }\n",
              "  </style>\n",
              "\n",
              "    <script>\n",
              "      const buttonEl =\n",
              "        document.querySelector('#df-2cb2434d-e274-43d3-82cb-07ffcb888350 button.colab-df-convert');\n",
              "      buttonEl.style.display =\n",
              "        google.colab.kernel.accessAllowed ? 'block' : 'none';\n",
              "\n",
              "      async function convertToInteractive(key) {\n",
              "        const element = document.querySelector('#df-2cb2434d-e274-43d3-82cb-07ffcb888350');\n",
              "        const dataTable =\n",
              "          await google.colab.kernel.invokeFunction('convertToInteractive',\n",
              "                                                    [key], {});\n",
              "        if (!dataTable) return;\n",
              "\n",
              "        const docLinkHtml = 'Like what you see? Visit the ' +\n",
              "          '<a target=\"_blank\" href=https://colab.research.google.com/notebooks/data_table.ipynb>data table notebook</a>'\n",
              "          + ' to learn more about interactive tables.';\n",
              "        element.innerHTML = '';\n",
              "        dataTable['output_type'] = 'display_data';\n",
              "        await google.colab.output.renderOutput(dataTable, element);\n",
              "        const docLink = document.createElement('div');\n",
              "        docLink.innerHTML = docLinkHtml;\n",
              "        element.appendChild(docLink);\n",
              "      }\n",
              "    </script>\n",
              "  </div>\n",
              "\n",
              "\n",
              "<div id=\"df-52ad49dd-3ac4-445f-8e9d-6caed6518023\">\n",
              "  <button class=\"colab-df-quickchart\" onclick=\"quickchart('df-52ad49dd-3ac4-445f-8e9d-6caed6518023')\"\n",
              "            title=\"Suggest charts\"\n",
              "            style=\"display:none;\">\n",
              "\n",
              "<svg xmlns=\"http://www.w3.org/2000/svg\" height=\"24px\"viewBox=\"0 0 24 24\"\n",
              "     width=\"24px\">\n",
              "    <g>\n",
              "        <path d=\"M19 3H5c-1.1 0-2 .9-2 2v14c0 1.1.9 2 2 2h14c1.1 0 2-.9 2-2V5c0-1.1-.9-2-2-2zM9 17H7v-7h2v7zm4 0h-2V7h2v10zm4 0h-2v-4h2v4z\"/>\n",
              "    </g>\n",
              "</svg>\n",
              "  </button>\n",
              "\n",
              "<style>\n",
              "  .colab-df-quickchart {\n",
              "      --bg-color: #E8F0FE;\n",
              "      --fill-color: #1967D2;\n",
              "      --hover-bg-color: #E2EBFA;\n",
              "      --hover-fill-color: #174EA6;\n",
              "      --disabled-fill-color: #AAA;\n",
              "      --disabled-bg-color: #DDD;\n",
              "  }\n",
              "\n",
              "  [theme=dark] .colab-df-quickchart {\n",
              "      --bg-color: #3B4455;\n",
              "      --fill-color: #D2E3FC;\n",
              "      --hover-bg-color: #434B5C;\n",
              "      --hover-fill-color: #FFFFFF;\n",
              "      --disabled-bg-color: #3B4455;\n",
              "      --disabled-fill-color: #666;\n",
              "  }\n",
              "\n",
              "  .colab-df-quickchart {\n",
              "    background-color: var(--bg-color);\n",
              "    border: none;\n",
              "    border-radius: 50%;\n",
              "    cursor: pointer;\n",
              "    display: none;\n",
              "    fill: var(--fill-color);\n",
              "    height: 32px;\n",
              "    padding: 0;\n",
              "    width: 32px;\n",
              "  }\n",
              "\n",
              "  .colab-df-quickchart:hover {\n",
              "    background-color: var(--hover-bg-color);\n",
              "    box-shadow: 0 1px 2px rgba(60, 64, 67, 0.3), 0 1px 3px 1px rgba(60, 64, 67, 0.15);\n",
              "    fill: var(--button-hover-fill-color);\n",
              "  }\n",
              "\n",
              "  .colab-df-quickchart-complete:disabled,\n",
              "  .colab-df-quickchart-complete:disabled:hover {\n",
              "    background-color: var(--disabled-bg-color);\n",
              "    fill: var(--disabled-fill-color);\n",
              "    box-shadow: none;\n",
              "  }\n",
              "\n",
              "  .colab-df-spinner {\n",
              "    border: 2px solid var(--fill-color);\n",
              "    border-color: transparent;\n",
              "    border-bottom-color: var(--fill-color);\n",
              "    animation:\n",
              "      spin 1s steps(1) infinite;\n",
              "  }\n",
              "\n",
              "  @keyframes spin {\n",
              "    0% {\n",
              "      border-color: transparent;\n",
              "      border-bottom-color: var(--fill-color);\n",
              "      border-left-color: var(--fill-color);\n",
              "    }\n",
              "    20% {\n",
              "      border-color: transparent;\n",
              "      border-left-color: var(--fill-color);\n",
              "      border-top-color: var(--fill-color);\n",
              "    }\n",
              "    30% {\n",
              "      border-color: transparent;\n",
              "      border-left-color: var(--fill-color);\n",
              "      border-top-color: var(--fill-color);\n",
              "      border-right-color: var(--fill-color);\n",
              "    }\n",
              "    40% {\n",
              "      border-color: transparent;\n",
              "      border-right-color: var(--fill-color);\n",
              "      border-top-color: var(--fill-color);\n",
              "    }\n",
              "    60% {\n",
              "      border-color: transparent;\n",
              "      border-right-color: var(--fill-color);\n",
              "    }\n",
              "    80% {\n",
              "      border-color: transparent;\n",
              "      border-right-color: var(--fill-color);\n",
              "      border-bottom-color: var(--fill-color);\n",
              "    }\n",
              "    90% {\n",
              "      border-color: transparent;\n",
              "      border-bottom-color: var(--fill-color);\n",
              "    }\n",
              "  }\n",
              "</style>\n",
              "\n",
              "  <script>\n",
              "    async function quickchart(key) {\n",
              "      const quickchartButtonEl =\n",
              "        document.querySelector('#' + key + ' button');\n",
              "      quickchartButtonEl.disabled = true;  // To prevent multiple clicks.\n",
              "      quickchartButtonEl.classList.add('colab-df-spinner');\n",
              "      try {\n",
              "        const charts = await google.colab.kernel.invokeFunction(\n",
              "            'suggestCharts', [key], {});\n",
              "      } catch (error) {\n",
              "        console.error('Error during call to suggestCharts:', error);\n",
              "      }\n",
              "      quickchartButtonEl.classList.remove('colab-df-spinner');\n",
              "      quickchartButtonEl.classList.add('colab-df-quickchart-complete');\n",
              "    }\n",
              "    (() => {\n",
              "      let quickchartButtonEl =\n",
              "        document.querySelector('#df-52ad49dd-3ac4-445f-8e9d-6caed6518023 button');\n",
              "      quickchartButtonEl.style.display =\n",
              "        google.colab.kernel.accessAllowed ? 'block' : 'none';\n",
              "    })();\n",
              "  </script>\n",
              "</div>\n",
              "\n",
              "    </div>\n",
              "  </div>\n"
            ],
            "application/vnd.google.colaboratory.intrinsic+json": {
              "type": "dataframe",
              "summary": "{\n  \"name\": \"df\",\n  \"rows\": 8,\n  \"fields\": [\n    {\n      \"column\": \"answer_start\",\n      \"properties\": {\n        \"dtype\": \"number\",\n        \"std\": 5356.662975065113,\n        \"min\": -1.0,\n        \"max\": 15326.0,\n        \"num_unique_values\": 8,\n        \"samples\": [\n          157.06276915046325,\n          78.0,\n          15326.0\n        ],\n        \"semantic_type\": \"\",\n        \"description\": \"\"\n      }\n    }\n  ]\n}"
            }
          },
          "metadata": {},
          "execution_count": 4
        }
      ]
    },
    {
      "cell_type": "code",
      "source": [
        "# Train and validation sets\n",
        "train_df = pd.read_parquet(\"hf://datasets/coastalcph/tydi_xor_rc/\" + splits[\"train\"])\n",
        "val_df = pd.read_parquet(\"hf://datasets/coastalcph/tydi_xor_rc/\" + splits[\"validation\"])\n",
        "\n",
        "# Explore the dataset columns (training and validation)\n",
        "print(\"Training Data Columns:\", train_df.columns)\n",
        "print(\"Validation Data Columns:\", val_df.columns)"
      ],
      "metadata": {
        "colab": {
          "base_uri": "https://localhost:8080/"
        },
        "id": "Z5wSMih8fMoA",
        "outputId": "8d4dfaba-7416-4d81-a07a-4bd0e27b640a"
      },
      "execution_count": null,
      "outputs": [
        {
          "output_type": "stream",
          "name": "stdout",
          "text": [
            "Training Data Columns: Index(['question', 'context', 'lang', 'answerable', 'answer_start', 'answer',\n",
            "       'answer_inlang'],\n",
            "      dtype='object')\n",
            "Validation Data Columns: Index(['question', 'context', 'lang', 'answerable', 'answer_start', 'answer',\n",
            "       'answer_inlang'],\n",
            "      dtype='object')\n"
          ]
        }
      ]
    },
    {
      "cell_type": "code",
      "source": [
        "finnish_questions = df[df['lang'] == 'fi']\n",
        "japanese_questions = df[df['lang'] == 'ja']\n",
        "russian_questions = df[df['lang'] == 'ru']\n",
        "\n",
        "# Summarize basic statistics\n",
        "print(\"Statistics for Finnish Questions:\")\n",
        "print(finnish_questions.describe(include='all'))  # or include only numeric features by default\n",
        "print(\"\\nStatistics for Japanese Questions:\")\n",
        "print(japanese_questions.describe(include='all'))\n",
        "print(\"\\nStatistics for Russian Questions:\")\n",
        "print(russian_questions.describe(include='all'))"
      ],
      "metadata": {
        "colab": {
          "base_uri": "https://localhost:8080/"
        },
        "id": "0tF3tanZNwhD",
        "outputId": "ee19456d-f03d-4662-b30c-be9fdca0ba17"
      },
      "execution_count": null,
      "outputs": [
        {
          "output_type": "stream",
          "name": "stdout",
          "text": [
            "Statistics for Finnish Questions:\n",
            "                                                question  \\\n",
            "count                                               2126   \n",
            "unique                                              2100   \n",
            "top     Kuinka monta peliä Final Fantasy-sarjaan kuuluu?   \n",
            "freq                                                   3   \n",
            "mean                                                 NaN   \n",
            "std                                                  NaN   \n",
            "min                                                  NaN   \n",
            "25%                                                  NaN   \n",
            "50%                                                  NaN   \n",
            "75%                                                  NaN   \n",
            "max                                                  NaN   \n",
            "\n",
            "                                                  context  lang answerable  \\\n",
            "count                                                2126  2126       2126   \n",
            "unique                                               2054     1          2   \n",
            "top     Westwood Studios, Inc. was an American video g...    fi       True   \n",
            "freq                                                    3  2126       1872   \n",
            "mean                                                  NaN   NaN        NaN   \n",
            "std                                                   NaN   NaN        NaN   \n",
            "min                                                   NaN   NaN        NaN   \n",
            "25%                                                   NaN   NaN        NaN   \n",
            "50%                                                   NaN   NaN        NaN   \n",
            "75%                                                   NaN   NaN        NaN   \n",
            "max                                                   NaN   NaN        NaN   \n",
            "\n",
            "        answer_start answer answer_inlang  \n",
            "count    2126.000000   2126            50  \n",
            "unique           NaN   1661            24  \n",
            "top              NaN     no            15  \n",
            "freq             NaN    221             3  \n",
            "mean      146.560677    NaN           NaN  \n",
            "std       216.719216    NaN           NaN  \n",
            "min        -1.000000    NaN           NaN  \n",
            "25%        15.000000    NaN           NaN  \n",
            "50%        68.500000    NaN           NaN  \n",
            "75%       187.000000    NaN           NaN  \n",
            "max      2176.000000    NaN           NaN  \n",
            "\n",
            "Statistics for Japanese Questions:\n",
            "              question                                            context  \\\n",
            "count             2301                                               2301   \n",
            "unique            2276                                               2259   \n",
            "top     PYGが最初に発表した曲は何  Phytolithic studies indicate that dry-field ri...   \n",
            "freq                 3                                                  3   \n",
            "mean               NaN                                                NaN   \n",
            "std                NaN                                                NaN   \n",
            "min                NaN                                                NaN   \n",
            "25%                NaN                                                NaN   \n",
            "50%                NaN                                                NaN   \n",
            "75%                NaN                                                NaN   \n",
            "max                NaN                                                NaN   \n",
            "\n",
            "        lang answerable  answer_start answer answer_inlang  \n",
            "count   2301       2301   2301.000000   2301            50  \n",
            "unique     1          2           NaN   1743            21  \n",
            "top       ja       True           NaN     no           yes  \n",
            "freq    2301       1929           NaN    327            10  \n",
            "mean     NaN        NaN    140.456758    NaN           NaN  \n",
            "std      NaN        NaN    195.279288    NaN           NaN  \n",
            "min      NaN        NaN     -1.000000    NaN           NaN  \n",
            "25%      NaN        NaN      4.000000    NaN           NaN  \n",
            "50%      NaN        NaN     71.000000    NaN           NaN  \n",
            "75%      NaN        NaN    190.000000    NaN           NaN  \n",
            "max      NaN        NaN   2069.000000    NaN           NaN  \n",
            "\n",
            "Statistics for Russian Questions:\n",
            "                                       question  \\\n",
            "count                                      1983   \n",
            "unique                                     1962   \n",
            "top     Где находится Государственный архив РФ?   \n",
            "freq                                          2   \n",
            "mean                                        NaN   \n",
            "std                                         NaN   \n",
            "min                                         NaN   \n",
            "25%                                         NaN   \n",
            "50%                                         NaN   \n",
            "75%                                         NaN   \n",
            "max                                         NaN   \n",
            "\n",
            "                                                  context  lang answerable  \\\n",
            "count                                                1983  1983       1983   \n",
            "unique                                               1917     1          2   \n",
            "top     Visa requirements for Russian citizens were li...    ru       True   \n",
            "freq                                                    4  1983       1756   \n",
            "mean                                                  NaN   NaN        NaN   \n",
            "std                                                   NaN   NaN        NaN   \n",
            "min                                                   NaN   NaN        NaN   \n",
            "25%                                                   NaN   NaN        NaN   \n",
            "50%                                                   NaN   NaN        NaN   \n",
            "75%                                                   NaN   NaN        NaN   \n",
            "max                                                   NaN   NaN        NaN   \n",
            "\n",
            "        answer_start answer answer_inlang  \n",
            "count    1983.000000   1983            50  \n",
            "unique           NaN   1612            29  \n",
            "top              NaN     no           787  \n",
            "freq             NaN    190             2  \n",
            "mean      180.296016    NaN           NaN  \n",
            "std       258.301193    NaN           NaN  \n",
            "min        -1.000000    NaN           NaN  \n",
            "25%        12.500000    NaN           NaN  \n",
            "50%        90.000000    NaN           NaN  \n",
            "75%       244.000000    NaN           NaN  \n",
            "max      2656.000000    NaN           NaN  \n"
          ]
        }
      ]
    },
    {
      "cell_type": "markdown",
      "source": [
        "We can see, that there are 2301 Japanese questions (2100 unique), 2126 Finnish questions (1743 unique) and 1983 Russian questions (1612 unique)."
      ],
      "metadata": {
        "id": "hIqy1LxlhR1z"
      }
    },
    {
      "cell_type": "markdown",
      "source": [
        "#### 2.  5 most common words"
      ],
      "metadata": {
        "id": "270UuNjohCxf"
      }
    },
    {
      "cell_type": "code",
      "source": [
        "!pip install googletrans==4.0.0-rc1"
      ],
      "metadata": {
        "colab": {
          "base_uri": "https://localhost:8080/"
        },
        "id": "4O59JsWNzJzf",
        "outputId": "1ce4f5e3-a1ac-402b-d0f8-f4f07977cf13"
      },
      "execution_count": null,
      "outputs": [
        {
          "output_type": "stream",
          "name": "stdout",
          "text": [
            "Requirement already satisfied: googletrans==4.0.0-rc1 in /usr/local/lib/python3.10/dist-packages (4.0.0rc1)\n",
            "Requirement already satisfied: httpx==0.13.3 in /usr/local/lib/python3.10/dist-packages (from googletrans==4.0.0-rc1) (0.13.3)\n",
            "Requirement already satisfied: certifi in /usr/local/lib/python3.10/dist-packages (from httpx==0.13.3->googletrans==4.0.0-rc1) (2024.8.30)\n",
            "Requirement already satisfied: hstspreload in /usr/local/lib/python3.10/dist-packages (from httpx==0.13.3->googletrans==4.0.0-rc1) (2024.9.1)\n",
            "Requirement already satisfied: sniffio in /usr/local/lib/python3.10/dist-packages (from httpx==0.13.3->googletrans==4.0.0-rc1) (1.3.1)\n",
            "Requirement already satisfied: chardet==3.* in /usr/local/lib/python3.10/dist-packages (from httpx==0.13.3->googletrans==4.0.0-rc1) (3.0.4)\n",
            "Requirement already satisfied: idna==2.* in /usr/local/lib/python3.10/dist-packages (from httpx==0.13.3->googletrans==4.0.0-rc1) (2.10)\n",
            "Requirement already satisfied: rfc3986<2,>=1.3 in /usr/local/lib/python3.10/dist-packages (from httpx==0.13.3->googletrans==4.0.0-rc1) (1.5.0)\n",
            "Requirement already satisfied: httpcore==0.9.* in /usr/local/lib/python3.10/dist-packages (from httpx==0.13.3->googletrans==4.0.0-rc1) (0.9.1)\n",
            "Requirement already satisfied: h11<0.10,>=0.8 in /usr/local/lib/python3.10/dist-packages (from httpcore==0.9.*->httpx==0.13.3->googletrans==4.0.0-rc1) (0.9.0)\n",
            "Requirement already satisfied: h2==3.* in /usr/local/lib/python3.10/dist-packages (from httpcore==0.9.*->httpx==0.13.3->googletrans==4.0.0-rc1) (3.2.0)\n",
            "Requirement already satisfied: hyperframe<6,>=5.2.0 in /usr/local/lib/python3.10/dist-packages (from h2==3.*->httpcore==0.9.*->httpx==0.13.3->googletrans==4.0.0-rc1) (5.2.0)\n",
            "Requirement already satisfied: hpack<4,>=3.0 in /usr/local/lib/python3.10/dist-packages (from h2==3.*->httpcore==0.9.*->httpx==0.13.3->googletrans==4.0.0-rc1) (3.0.0)\n"
          ]
        }
      ]
    },
    {
      "cell_type": "code",
      "source": [
        "from collections import Counter\n",
        "from googletrans import Translator\n",
        "translator = Translator()"
      ],
      "metadata": {
        "id": "uPqCXp__3bAY"
      },
      "execution_count": null,
      "outputs": []
    },
    {
      "cell_type": "code",
      "source": [
        "# Find 5 most common words in Finnish in df dataset\n",
        "\n",
        "finnish_questions = df[df['lang'] == 'fi']['question']\n",
        "\n",
        "# Combine all questions into a single string\n",
        "all_questions_text = ' '.join(finnish_questions.astype(str))\n",
        "\n",
        "# Tokenize the text\n",
        "words = all_questions_text.lower().split()\n",
        "\n",
        "# Count the frequency of each word\n",
        "word_counts = Counter(words)\n",
        "\n",
        "# Get the 5 most common words\n",
        "top_5_words = word_counts.most_common(5)\n",
        "\n",
        "# Translate words dynamically\n",
        "translated_top_5 = []\n",
        "for word, count in top_5_words:\n",
        "    translation = translator.translate(word, src='fi', dest='en').text  # Translate word from Finnish to English\n",
        "    translated_top_5.append((word, count, translation))\n",
        "\n",
        "# Print the top 5 words with translations\n",
        "print(\"Top 5 most common words in Finnish questions with English translations:\")\n",
        "for word, count, translation in translated_top_5:\n",
        "    print(f\"{word} (count: {count}) - English: {translation}\")\n",
        "\n",
        "# print(\"Top 5 most common words in Finnish questions:\", top_5_words)\n"
      ],
      "metadata": {
        "id": "hWKkWtoAQ2AU",
        "colab": {
          "base_uri": "https://localhost:8080/"
        },
        "outputId": "9084a19d-9e07-48eb-924c-8ad457868ef9"
      },
      "execution_count": null,
      "outputs": [
        {
          "output_type": "stream",
          "name": "stdout",
          "text": [
            "Top 5 most common words in Finnish questions with English translations:\n",
            "on (count: 582) - English: there is\n",
            "mikä (count: 328) - English: What\n",
            "milloin (count: 287) - English: When\n",
            "vuonna (count: 227) - English: in\n",
            "kuka (count: 215) - English: Who\n"
          ]
        }
      ]
    },
    {
      "cell_type": "markdown",
      "source": [],
      "metadata": {
        "id": "2LM93EQ30HWL"
      }
    },
    {
      "cell_type": "code",
      "source": [
        "# Find 5 most common words in Russian in df dataset\n",
        "russian_questions = df[df['lang'] == 'ru']['question']\n",
        "\n",
        "all_questions_text = ' '.join(russian_questions.astype(str))\n",
        "\n",
        "words = all_questions_text.lower().split()\n",
        "\n",
        "word_counts = Counter(words)\n",
        "\n",
        "top_5_words = word_counts.most_common(5)\n",
        "\n",
        "# Translate words dynamically\n",
        "translated_top_5 = []\n",
        "for word, count in top_5_words:\n",
        "    translation = translator.translate(word, src='ru', dest='en').text  # Translate word from Russian to English\n",
        "    translated_top_5.append((word, count, translation))\n",
        "\n",
        "# Print the top 5 words with translations\n",
        "print(\"Top 5 most common words in Russian questions with English translations:\")\n",
        "for word, count, translation in translated_top_5:\n",
        "    print(f\"{word} (count: {count}) - English: {translation}\")\n",
        "\n",
        "#print(\"Top 5 most common words in Russian questions:\", top_5_words)\n",
        "\n",
        "\n"
      ],
      "metadata": {
        "colab": {
          "base_uri": "https://localhost:8080/"
        },
        "id": "3zJg1qLb6CnH",
        "outputId": "7dbb4e21-1ef2-4aa0-d945-0639be82c55f"
      },
      "execution_count": null,
      "outputs": [
        {
          "output_type": "stream",
          "name": "stdout",
          "text": [
            "Top 5 most common words in Russian questions with English translations:\n",
            "в (count: 978) - English: V\n",
            "сколько (count: 426) - English: How many\n",
            "на (count: 385) - English: on\n",
            "когда (count: 251) - English: When\n",
            "кто (count: 209) - English: Who\n"
          ]
        }
      ]
    },
    {
      "cell_type": "markdown",
      "source": [
        "For both Finnish and Russian it appears the the most common words are question\n",
        "words or \"connecting\"/grammar words.\n",
        "\n",
        "Let's proceed to Japanese:"
      ],
      "metadata": {
        "id": "dAWLYnHEJdk_"
      }
    },
    {
      "cell_type": "code",
      "source": [
        "# Find 5 most common words in Japanese in df dataset\n",
        "japanese_questions = df[df['lang'] == 'ja']['question']\n",
        "\n",
        "all_questions_text = ' '.join(japanese_questions.astype(str))\n",
        "\n",
        "words = all_questions_text.lower().split()\n",
        "\n",
        "word_counts = Counter(words)\n",
        "\n",
        "top_5_words = word_counts.most_common(5)\n",
        "\n",
        "print(\"Top 5 most common words in Japanese questions:\", top_5_words)"
      ],
      "metadata": {
        "colab": {
          "base_uri": "https://localhost:8080/"
        },
        "id": "hvXo8bjM6Y2r",
        "outputId": "578da87c-8292-4275-fbf3-14804b45a94f"
      },
      "execution_count": null,
      "outputs": [
        {
          "output_type": "stream",
          "name": "stdout",
          "text": [
            "Top 5 most common words in Japanese questions: [('pygが最初に発表した曲は何', 3), ('オーロラ号の漂流時、オーロラ号に乗組員は何人いた？', 3), ('カンザスシティが設立されたのはいつ', 3), ('クロイツ群が初めて発見されたのはいつ', 3), ('ライド', 2)]\n"
          ]
        }
      ]
    },
    {
      "cell_type": "markdown",
      "source": [
        "We can see that instead of actually counting words in japanese, it counted whole sentences. We'll try to use a specific tokenizer for japanese:"
      ],
      "metadata": {
        "id": "i6l_WGWu6o2d"
      }
    },
    {
      "cell_type": "code",
      "source": [
        "# Load model directly\n",
        "from transformers import AutoTokenizer, AutoModelForSeq2SeqLM\n",
        "\n",
        "tokenizer_ja = AutoTokenizer.from_pretrained(\"Helsinki-NLP/opus-mt-ja-en\")\n",
        "model_ja = AutoModelForSeq2SeqLM.from_pretrained(\"Helsinki-NLP/opus-mt-ja-en\")\n",
        "\n",
        "#tokenizer_fi = AutoTokenizer.from_pretrained(\"Helsinki-NLP/opus-mt-fi-en\")\n",
        "#model_fi = AutoModelForSeq2SeqLM.from_pretrained(\"Helsinki-NLP/opus-mt-fi-en\")\n",
        "\n",
        "#tokenizer_ru = AutoTokenizer.from_pretrained(\"Helsinki-NLP/opus-mt-ru-en\")\n",
        "#model_ru = AutoModelForSeq2SeqLM.from_pretrained(\"Helsinki-NLP/opus-mt-ru-en\")\n",
        "\n"
      ],
      "metadata": {
        "colab": {
          "base_uri": "https://localhost:8080/",
          "height": 138,
          "referenced_widgets": [
            "9fc0c94650dc4e2aa165824300fa7078",
            "3be305432432409ab783d7dfd5e84d9d",
            "cb0f3ed09df44202bee7de7a3e024034",
            "65ebff5df5cf447d81adc814acf9305c",
            "7aa8658b044a48ec9644f382faed35fe",
            "d52726a19309422fa65e5b99e8dc74f9",
            "a7350711978142d88757bcf5c985d061",
            "001e6e8aa8104fc895e6bd43fa745fee",
            "11ceff901645457d8dc2e32b7fa28f62",
            "0498cf15135b46358517f305ba3beb00",
            "329c2efac2bf4f47baca2a22b10fc727"
          ]
        },
        "id": "e0_xwIuhOxb1",
        "outputId": "cf5b70ef-3309-4536-9798-99fb2c0fdf2c"
      },
      "execution_count": null,
      "outputs": [
        {
          "output_type": "stream",
          "name": "stderr",
          "text": [
            "/usr/local/lib/python3.10/dist-packages/transformers/models/marian/tokenization_marian.py:175: UserWarning: Recommended: pip install sacremoses.\n",
            "  warnings.warn(\"Recommended: pip install sacremoses.\")\n",
            "/usr/local/lib/python3.10/dist-packages/transformers/tokenization_utils_base.py:1601: FutureWarning: `clean_up_tokenization_spaces` was not set. It will be set to `True` by default. This behavior will be depracted in transformers v4.45, and will be then set to `False` by default. For more details check this issue: https://github.com/huggingface/transformers/issues/31884\n",
            "  warnings.warn(\n"
          ]
        },
        {
          "output_type": "display_data",
          "data": {
            "text/plain": [
              "generation_config.json:   0%|          | 0.00/293 [00:00<?, ?B/s]"
            ],
            "application/vnd.jupyter.widget-view+json": {
              "version_major": 2,
              "version_minor": 0,
              "model_id": "9fc0c94650dc4e2aa165824300fa7078"
            }
          },
          "metadata": {}
        }
      ]
    },
    {
      "cell_type": "code",
      "source": [
        "def tokenize_japanese_sentences(sentence):\n",
        "    tokens = tokenizer_ja.tokenize(sentence)\n",
        "    return \" \".join(tokens)\n",
        "\n",
        "# Apply tokenization to the 'japanese_questions' series\n",
        "tokenized_japanese_questions = japanese_questions.apply(tokenize_japanese_sentences)\n",
        "\n",
        "# Print the original and tokenized questions\n",
        "for original, tokenized in zip(japanese_questions.head(5), tokenized_japanese_questions.head(5)):\n",
        "    print(f\"Original: {original}\")\n",
        "    print(f\"Tokenized: {tokenized}\")\n",
        "    print(\"-\" * 50)"
      ],
      "metadata": {
        "id": "qIuUufpaQTS8",
        "colab": {
          "base_uri": "https://localhost:8080/"
        },
        "outputId": "17f90256-fcad-471b-b568-4e2347ac8bee"
      },
      "execution_count": null,
      "outputs": [
        {
          "output_type": "stream",
          "name": "stdout",
          "text": [
            "Original: ポーランドで農地改革が行われたことがある？\n",
            "Tokenized: ▁ポーランド で 農 地 改革 が 行わ れた こと がある ?\n",
            "--------------------------------------------------\n",
            "Original: ビスカヤ県で初めて進出した大規模鉱業会社は何？\n",
            "Tokenized: ▁ビ スカ ヤ 県 で 初めて 進 出 した 大 規模 鉱 業 会社 は 何 ?\n",
            "--------------------------------------------------\n",
            "Original: 古代ローマ帝国はいつ起きた？\n",
            "Tokenized: ▁古代 ローマ 帝国 は いつ 起き た ?\n",
            "--------------------------------------------------\n",
            "Original: スペイン・バスク州の州都はどこですか？\n",
            "Tokenized: ▁スペイン ・ バス ク 州 の 州 都 は どこ です か ?\n",
            "--------------------------------------------------\n",
            "Original: イタリア王国海軍は第一次世界大戦中に何隻戦艦をつくった？\n",
            "Tokenized: ▁イタリア 王国 海軍 は 第一 次 世界 大戦 中 に 何 隻 戦艦 を つく った ?\n",
            "--------------------------------------------------\n"
          ]
        }
      ]
    },
    {
      "cell_type": "markdown",
      "source": [
        "Now that the Japanese questions are properly tokenized, we can proceed to find the most common words:"
      ],
      "metadata": {
        "id": "qOisVrnr3_TW"
      }
    },
    {
      "cell_type": "code",
      "source": [
        "all_questions_text = ' '.join(tokenized_japanese_questions.astype(str))\n",
        "\n",
        "words = all_questions_text.lower().split()\n",
        "\n",
        "word_counts = Counter(words)\n",
        "\n",
        "top_5_words = word_counts.most_common(5)\n",
        "\n",
        "# Translate words dynamically\n",
        "translated_top_5 = []\n",
        "for word, count in top_5_words:\n",
        "    translation = translator.translate(word, src='ja', dest='en').text  # Translate word from Japanese to English\n",
        "    translated_top_5.append((word, count, translation))\n",
        "\n",
        "# Print the top 5 words with translations\n",
        "print(\"Top 5 most common words in Japanese questions with English translations:\")\n",
        "for word, count, translation in translated_top_5:\n",
        "    print(f\"{word} (count: {count}) - English: {translation}\")"
      ],
      "metadata": {
        "colab": {
          "base_uri": "https://localhost:8080/"
        },
        "id": "4iBY_y8w4Jwn",
        "outputId": "802292ac-f8f5-45d3-eeee-fb82701df3ab"
      },
      "execution_count": null,
      "outputs": [
        {
          "output_type": "stream",
          "name": "stdout",
          "text": [
            "Top 5 most common words in Japanese questions with English translations:\n",
            "は (count: 2213) - English: teeth\n",
            "? (count: 1644) - English: ?\n",
            "の (count: 1622) - English: of\n",
            "・ (count: 646) - English: ・\n",
            "何 (count: 542) - English: what\n"
          ]
        }
      ]
    },
    {
      "cell_type": "markdown",
      "source": [
        "Here, because we pre-tokenized the data, punctuation gets treated like words. For that reason the question mark and period got into the 5 most commonly used \"words\".\n",
        "\n",
        "Another thing to note is the \"は\" token. Altough it can be translated to \"teeth\", it is most commonly used as grammatical particle - used to indicate the subject of the sentence. It is a frequently used particle which explains why we see it so much.\n",
        "\n",
        "Similarly, the \"の\" token is akin to the possessive 's in english, which can explain its high frequency in the data."
      ],
      "metadata": {
        "id": "KC_eUcib4xCT"
      }
    },
    {
      "cell_type": "markdown",
      "source": [
        "We can try to remove the grammar particles and punctuation tokens in order to find the most common \"words\". It is important to note the defintion of what a \"word\" is can be different depending on the language (and the person you're asking)."
      ],
      "metadata": {
        "id": "3JhVrKJQJ0Ik"
      }
    },
    {
      "cell_type": "code",
      "source": [
        "import re\n",
        "\n",
        "# Function to remove punctuation and unwanted particles\n",
        "def clean_text(text):\n",
        "    # Remove punctuation using regex\n",
        "    text = re.sub(r'[^\\w\\s]', '', text)  # Removes non-word characters (punctuation)\n",
        "\n",
        "    # List of common Japanese particles to filter out\n",
        "    particles = {'は', 'が', 'を', 'に', 'の', 'で', 'と', 'や', 'も', 'から', 'まで', 'へ', 'か'}\n",
        "\n",
        "    # Split the text and filter out particles\n",
        "    words = text.lower().split()\n",
        "    cleaned_words = [word for word in words if word not in particles]\n",
        "\n",
        "    return cleaned_words\n",
        "\n",
        "# Convert tokenized questions into a single string\n",
        "all_questions_text = ' '.join(tokenized_japanese_questions.astype(str))\n",
        "\n",
        "# Clean the text by removing punctuation and filtering out particles\n",
        "cleaned_words = clean_text(all_questions_text)\n",
        "\n",
        "# Count word frequencies\n",
        "word_counts = Counter(cleaned_words)\n",
        "\n",
        "# Get the top 5 most common words\n",
        "top_5_words = word_counts.most_common(5)\n",
        "\n",
        "# Translate words dynamically\n",
        "translated_top_5 = []\n",
        "for word, count in top_5_words:\n",
        "    translation = translator.translate(word, src='ja', dest='en').text  # Translate word from Japanese to English\n",
        "    translated_top_5.append((word, count, translation))\n",
        "\n",
        "# Print the top 5 words with translations\n",
        "print(\"Top 5 most common words in Japanese questions with English translations:\")\n",
        "for word, count, translation in translated_top_5:\n",
        "    print(f\"{word} (count: {count}) - English: {translation}\")"
      ],
      "metadata": {
        "colab": {
          "base_uri": "https://localhost:8080/"
        },
        "id": "nSRO3MgoJ4sy",
        "outputId": "28db2594-417c-4c8f-d3d5-f3cfc05fce9f"
      },
      "execution_count": null,
      "outputs": [
        {
          "output_type": "stream",
          "name": "stdout",
          "text": [
            "Top 5 most common words in Japanese questions with English translations:\n",
            "何 (count: 542) - English: what\n",
            "した (count: 469) - English: did\n",
            "いつ (count: 459) - English: when\n",
            "誰 (count: 315) - English: who\n",
            "です (count: 216) - English: is\n"
          ]
        }
      ]
    },
    {
      "cell_type": "markdown",
      "source": [
        "As we can see, the filtered Japanese results are similar to the Finnish and Russian results.\n"
      ],
      "metadata": {
        "id": "2jINrwaJLFld"
      }
    },
    {
      "cell_type": "markdown",
      "source": [
        "####  3. Rule-based Classifier"
      ],
      "metadata": {
        "id": "sMdlQetV5lU8"
      }
    },
    {
      "cell_type": "markdown",
      "source": [
        "Classifier that predicts whether a question is answerable or impossible, only using the document (context) and question. You may use machine translation as a component."
      ],
      "metadata": {
        "id": "QFzC6IzVK1MT"
      }
    },
    {
      "cell_type": "code",
      "source": [
        "def predict_answerability(context, question, lang):\n",
        "    translated_question = translator.translate(question, src=lang, dest='en').text\n",
        "\n",
        "    # Check if the translated question is in the context\n",
        "    keywords = translated_question.lower().split()\n",
        "\n",
        "    # Search for a keywords\n",
        "    for keyword in keywords:\n",
        "        if keyword in context.lower():\n",
        "            return 'answerable',translated_question\n",
        "\n",
        "    # If no keywords are found, the question is impossible\n",
        "    return 'impossible', translated_question\n",
        "\n",
        "\n",
        "# Test the classifier on the first 5 questions\n",
        "for index, row in val_df[val_df['lang'] == 'fi'].head(10).iterrows():\n",
        "    context = row['context']\n",
        "    question = row['question']\n",
        "    lang = row['lang']\n",
        "    prediction, translated_question = predict_answerability(context, question, lang)\n",
        "    print(f\"Question: {question}\")\n",
        "    print(f\"Translated question: {translated_question}\")\n",
        "    print(f\"Context: {context}\")\n",
        "    print(f\"Predicted: {prediction}\")\n",
        "    print(f\"Actual: {row['answerable']}\")\n",
        "    print(\"-\" * 50)\n"
      ],
      "metadata": {
        "id": "XeWsb-jX5mys",
        "colab": {
          "base_uri": "https://localhost:8080/"
        },
        "outputId": "a27f1bda-076e-4237-83a2-adb2330ed40f"
      },
      "execution_count": null,
      "outputs": [
        {
          "output_type": "stream",
          "name": "stdout",
          "text": [
            "Question: Missä maassa Jack Churchill syntyi?\n",
            "Translated question: In which country was Jack Churchill born?\n",
            "Context: Churchill was born at Colombo, British Ceylon to Alec Fleming \"Alex\" Churchill (1876–1961), later of Hove, East Sussex and Elinor Elizabeth, daughter of John Alexander Bond Bell, of Kelnahard, County Cavan, Ireland, and of Dimbula, Ceylon. Alec, of a family long settled at Deddington, Oxfordshire, had been District Engineer in the Ceylon Civil Service, in which his father, John Fleming Churchill (1829–1894), had also served. Soon after Jack's birth, the family returned to Dormansland, Surrey, where his younger brother, Major-General Thomas Bell Lindsay Churchill (1907–1990), C.B., C.B.E., M.C. was born. In 1910, the Churchills moved to Hong Kong when Alec Fleming Churchill was appointed as Director of Public Works; he also served as a member of the Executive Council. The Churchills' third and youngest son, Robert Alec Farquhar Churchill—later a Lieutenant in the Royal Navy and Fleet Air Arm—was born in Hong Kong in 1911. The family returned to England in 1917.\n",
            "Predicted: answerable\n",
            "Actual: True\n",
            "--------------------------------------------------\n",
            "Question: Mikä on yleisin uskonto maailmassa?\n",
            "Translated question: What is the most common religion in the world?\n",
            "Context: The five largest religious groups by world population, estimated to account for 5.8 billion people and 84% of the population, are Christianity, Islam, Buddhism, Hinduism (with the relative numbers for Buddhism and Hinduism dependent on the extent of syncretism) and traditional folk religion.\n",
            "Predicted: answerable\n",
            "Actual: True\n",
            "--------------------------------------------------\n",
            "Question: Kuka oli Glee sarjan pääosassa?\n",
            "Translated question: Who was the lead in the Glee series?\n",
            "Context: Rachel Barbra Berry (Lea Michele) is the lead character and is a \"strong, driven\" member of the glee club, who is misunderstood by her peers. Michele took the role in \"Glee\" because of Rachel's characterization, explaining: \"Not only is she a singer, but she has so much heart—I think it's what we need on TV.\" Michele described the first thirteen episodes of the series as: \"Rachel's journey of finding herself within the glee club\", explaining that: \"She's learning how to be a team player and work within this group.\"\n",
            "Predicted: answerable\n",
            "Actual: True\n",
            "--------------------------------------------------\n",
            "Question: Milloin Killzone-sarjan peli julkaistiin ensimmäisen kerran?\n",
            "Translated question: When was the Killzone Series game first released?\n",
            "Context: Killzone is a series of first-person shooter and twin sticks shooter video games for Sony Computer Entertainment's (SCE) video game consoles. The main series and the PlayStation Portable (PSP) installment were developed by Guerrilla Games, a subsidiary of SCE, and the PlayStation Vita installment was developed by Guerrilla Cambridge. \"Killzone\" consists of six games, beginning on the PlayStation 2 in November 2004 with \"Killzone\", and continued on the PlayStation Portable in October 2006 with \"\". \"Killzone 2\" was released for the PlayStation 3 in February 2009, and \"Killzone 3\" was released in February 2011, also for the PlayStation 3. \"\" was released for the PlayStation Vita in September 2013, followed by \"Killzone Shadow Fall\", a launch title for the PlayStation 4, in November 2013.\n",
            "Predicted: answerable\n",
            "Actual: True\n",
            "--------------------------------------------------\n",
            "Question: Milloin Pennsylvania liitty USA?\n",
            "Translated question: When does Pennsylvania join USA?\n",
            "Context: The state is one of the 13 original founding states of the United States; it came into being in 1681 as a result of a royal land grant to William Penn, the son of the state's namesake. Part of Pennsylvania (along the Delaware River), together with the present State of Delaware, had earlier been organized as the Colony of New Sweden. It was the second state to ratify the United States Constitution, on December 12, 1787. Independence Hall, where the United States Declaration of Independence and United States Constitution were drafted, is located in the state's largest city of Philadelphia. During the American Civil War, the Battle of Gettysburg was fought in the south central region of the state. Valley Forge near Philadelphia was General Washington's headquarters during the bitter winter of 1777–78.\n",
            "Predicted: answerable\n",
            "Actual: True\n",
            "--------------------------------------------------\n",
            "Question: Missä Richard Attenborough kuoli?\n",
            "Translated question: Where did Richard Attenborough die?\n",
            "Context: In June 2012, shortly before her 90th birthday, Sheila Sim entered the professional actors' retirement home Denville Hall, for which she and Attenborough had helped raise funds. In October 2012, it was announced that Attenborough was putting the family home, Old Friars, with its attached offices, Beaver Lodge, which come complete with a sound-proofed cinema in the garden, on the market for £11.5 million. His brother David stated: \"He and his wife both loved the house, but they now need full-time care. It simply isn't practical to keep the house on any more.\" In December 2012, in light of his deteriorating health, Attenborough moved into the same nursing home in London to be with his wife, as confirmed by their son Michael.\n",
            "Predicted: answerable\n",
            "Actual: True\n",
            "--------------------------------------------------\n",
            "Question: Milloin ateismi on syntynyt?\n",
            "Translated question: When was atheism born?\n",
            "Context: In early ancient Greek, the adjective ' (, from the privative ἀ- + \"god\") meant \"godless\". It was first used as a term of censure roughly meaning \"ungodly\" or \"impious\". In the 5th century BCE, the word began to indicate more deliberate and active godlessness in the sense of \"severing relations with the gods\" or \"denying the gods\". The term ἀσεβής (') then came to be applied against those who impiously denied or disrespected the local gods, even if they believed in other gods. Modern translations of classical texts sometimes render ' as \"atheistic\". As an abstract noun, there was also ('), \"atheism\". Cicero transliterated the Greek word into the Latin \"\". The term found frequent use in the debate between early Christians and Hellenists, with each side attributing it, in the pejorative sense, to the other.\n",
            "Predicted: answerable\n",
            "Actual: True\n",
            "--------------------------------------------------\n",
            "Question: Mistä tulee nimitys digitelevisio?\n",
            "Translated question: Where's the name Digitlevision?\n",
            "Context: Digital television (DTV) is the transmission of television signals, including the sound channel, using digital encoding, in contrast to the earlier television technology, analog television, in which the video and audio are carried by analog signals. It is an innovative advance that represents the first significant evolution in television technology since color television in the 1950s. Digital TV transmits in a new image format called HDTV (high definition television), with greater resolution than analog TV, in a wide screen aspect ratio similar to recent movies in contrast to the narrower screen of analog TV. It makes more economical use of scarce radio spectrum space; it can transmit multiple channels, up to 7, in the same bandwidth occupied by a single channel of analog television, and provides many new features that analog television cannot. A transition from analog to digital broadcasting began around 2006 in some countries, and many industrial countries have now completed the changeover, while other countries are in various stages of adaptation. Different digital television broadcasting standards have been adopted in different parts of the world; below are the more widely used standards:\n",
            "Predicted: answerable\n",
            "Actual: True\n",
            "--------------------------------------------------\n",
            "Question: Ovatko suomen kielen murteet olleet aina olemassa?\n",
            "Translated question: Have the Finnish language dialects always exist?\n",
            "Context: Westrobothnian () is a number of closely related non-standardized Scandinavian dialects spoken natively along the coast of the historical province of Westrobothnia in co-existence with Finnish, Sami and in recent centuries, the national standard language Swedish. Westrobothnian is the northernmost dialect group of the North Germanic languages in Sweden and borders the traditional Sami-speaking Lapland to the west and Finnish-speaking Torne Valley to the north. Like all Scandinavian, the different varieties of Westrobothnian originate in Proto-Norse and dialects of Old Norse, spoken by immigrating Germanic settlers during the Viking Age.\n",
            "Predicted: answerable\n",
            "Actual: False\n",
            "--------------------------------------------------\n",
            "Question: Kuka näytteli pääosaa Glee sarjassa?\n",
            "Translated question: Who played the lead in the Glee series?\n",
            "Context: Rachel Barbra Berry (Lea Michele) is the lead character and is a \"strong, driven\" member of the glee club, who is misunderstood by her peers. Michele took the role in \"Glee\" because of Rachel's characterization, explaining: \"Not only is she a singer, but she has so much heart—I think it's what we need on TV.\" Michele described the first thirteen episodes of the series as: \"Rachel's journey of finding herself within the glee club\", explaining that: \"She's learning how to be a team player and work within this group.\"\n",
            "Predicted: answerable\n",
            "Actual: True\n",
            "--------------------------------------------------\n"
          ]
        }
      ]
    },
    {
      "cell_type": "code",
      "source": [
        "#!git clone https://github.com/sofi388/nlp_ucph.git"
      ],
      "metadata": {
        "id": "kTjlLfRAAawa",
        "colab": {
          "base_uri": "https://localhost:8080/"
        },
        "outputId": "001aee29-581c-4cec-8513-e47728069e17"
      },
      "execution_count": null,
      "outputs": [
        {
          "output_type": "stream",
          "name": "stdout",
          "text": [
            "Cloning into 'nlp_ucph'...\n",
            "remote: Enumerating objects: 3, done.\u001b[K\n",
            "remote: Counting objects: 100% (3/3), done.\u001b[K\n",
            "remote: Compressing objects: 100% (2/2), done.\u001b[K\n",
            "remote: Total 3 (delta 0), reused 0 (delta 0), pack-reused 0 (from 0)\u001b[K\n",
            "Receiving objects: 100% (3/3), done.\n"
          ]
        }
      ]
    },
    {
      "cell_type": "code",
      "source": [
        "#%cd nlp_ucph"
      ],
      "metadata": {
        "colab": {
          "base_uri": "https://localhost:8080/"
        },
        "id": "MiGGn2oPMWn5",
        "outputId": "ae4056e9-9003-4626-d4fa-1fa3ef4c0bb3"
      },
      "execution_count": null,
      "outputs": [
        {
          "output_type": "stream",
          "name": "stdout",
          "text": [
            "/content/nlp_ucph\n"
          ]
        }
      ]
    },
    {
      "cell_type": "code",
      "source": [
        "#%cd /content/nlp_ucph"
      ],
      "metadata": {
        "colab": {
          "base_uri": "https://localhost:8080/"
        },
        "id": "HPAKKMZxMtBa",
        "outputId": "2bb3ee8b-dff8-4154-e3d9-a5e3df153f5d"
      },
      "execution_count": null,
      "outputs": [
        {
          "output_type": "stream",
          "name": "stdout",
          "text": [
            "/content/nlp_ucph\n"
          ]
        }
      ]
    },
    {
      "cell_type": "code",
      "source": [
        "#!find /content -name \"NLP_Project.ipynb\""
      ],
      "metadata": {
        "id": "7-nr3a_ONQ3I"
      },
      "execution_count": 1,
      "outputs": []
    },
    {
      "cell_type": "code",
      "source": [],
      "metadata": {
        "id": "tQfhiXnxNdj3"
      },
      "execution_count": null,
      "outputs": []
    }
  ]
}